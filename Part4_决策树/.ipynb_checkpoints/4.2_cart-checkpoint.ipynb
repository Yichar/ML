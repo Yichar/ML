{
 "cells": [
  {
   "cell_type": "code",
   "execution_count": 2,
   "metadata": {
    "collapsed": false
   },
   "outputs": [
    {
     "name": "stdout",
     "output_type": "stream",
     "text": [
      "hello world\n"
     ]
    }
   ],
   "source": [
    "#-*- coding:utf-8 -*-\n",
    "from numpy import *\n",
    "import numpy as np\n",
    "import matplotlib.pyplot as plt\n",
    "# 三大步骤：\n",
    "'''\n",
    "1、特征的选择：标准：总方差最小\n",
    "2、回归树的生成：停止划分的标准\n",
    "3、剪枝：\n",
    "'''\n",
    "\n",
    "# 导入数据集\n",
    "def loadData(filaName):\n",
    "    dataSet = []\n",
    "    fr = open(filaName)\n",
    "    for line in fr.readlines():\n",
    "        curLine = line.strip().split('\\t')\n",
    "        theLine = list(map(float, curLine))                 # map all elements to float()\n",
    "        dataSet.append(theLine)\n",
    "    return dataSet\n",
    "\n",
    "# 特征选择：输入：       输出：最佳特征、最佳划分值\n",
    "'''\n",
    "1、选择标准\n",
    "遍历所有的特征Fi：遍历每个特征的所有特征值Zi；找到Zi,划分后总的方差最小\n",
    "停止划分的条件：\n",
    "1、当前数据集中的标签相同，返回当前的标签\n",
    "2、划分前后的总方差差距很小，数据不划分，返回的属性为空，返回的最佳划分值为当前所有标签的均值。\n",
    "3、划分后的左右两个数据集的样本数量较小，返回的属性为空，返回的最佳划分值为当前所有标签的均值。\n",
    "当划分的数据集满足上述条件之一，返回的最佳划分值作为叶子节点；\n",
    "当划分后的数据集不满足上述要求时，找到最佳划分的属性，及最佳划分特征值\n",
    "'''\n",
    "\n",
    "# 计算总的方差\n",
    "def GetAllVar(dataSet):\n",
    "    return var(dataSet[:,-1])*shape(dataSet)[0]\n",
    "\n",
    "# 根据给定的特征、特征值划分数据集\n",
    "def dataSplit(dataSet,feature,featNumber):\n",
    "    dataL =  dataSet[nonzero(dataSet[:,feature] > featNumber)[0],:]\n",
    "    dataR = dataSet[nonzero(dataSet[:,feature] <= featNumber)[0],:]\n",
    "    return dataL,dataR\n",
    "\n",
    "# 特征划分\n",
    "def choseBestFeature(dataSet,op = [1,4]):          # 三个停止条件可否当作是三个预剪枝操作\n",
    "    if len(set(dataSet[:,-1].T.tolist()[0]))==1:     # 停止条件 1\n",
    "        regLeaf = mean(dataSet[:,-1])\n",
    "        return None,regLeaf                   # 返回标签的均值作为叶子节点\n",
    "    Serror = GetAllVar(dataSet)\n",
    "    BestFeature = -1; BestNumber = 0; lowError = inf\n",
    "    m,n = shape(dataSet) # m 个样本， n -1 个特征\n",
    "    for i in range(n-1):    # 遍历每一个特征值\n",
    "        for j in set(dataSet[:,i].T.tolist()[0]):\n",
    "            dataL,dataR = dataSplit(dataSet,i,j)\n",
    "            if shape(dataR)[0]<op[1] or shape(dataL)[0]<op[1]: continue  # 如果所给的划分后的数据集中样本数目甚少，则直接跳出\n",
    "            tempError = GetAllVar(dataL) + GetAllVar(dataR)\n",
    "            if tempError < lowError:\n",
    "                lowError = tempError; BestFeature = i; BestNumber = j\n",
    "    if Serror - lowError < op[0]:               # 停止条件 2   如果所给的数据划分前后的差别不大，则停止划分\n",
    "        return None,mean(dataSet[:,-1])\n",
    "    dataL, dataR = dataSplit(dataSet, BestFeature, BestNumber)\n",
    "    if shape(dataR)[0] < op[1] or shape(dataL)[0] < op[1]:        # 停止条件 3\n",
    "        return None, mean(dataSet[:, -1])\n",
    "    return BestFeature,BestNumber\n",
    "\n",
    "\n",
    "# 决策树生成\n",
    "def createTree(dataSet,op=[1,4]):\n",
    "    bestFeat,bestNumber = choseBestFeature(dataSet,op)\n",
    "    if bestFeat==None: return bestNumber\n",
    "    regTree = {}\n",
    "    regTree['spInd'] = bestFeat\n",
    "    regTree['spVal'] = bestNumber\n",
    "    dataL,dataR = dataSplit(dataSet,bestFeat,bestNumber)\n",
    "    regTree['left'] = createTree(dataL,op)\n",
    "    regTree['right'] = createTree(dataR,op)\n",
    "    return  regTree\n",
    "\n",
    "# 后剪枝操作\n",
    "# 用于判断所给的节点是否是叶子节点\n",
    "def isTree(Tree):\n",
    "    return (type(Tree).__name__=='dict' )\n",
    "\n",
    "# 计算两个叶子节点的均值\n",
    "def getMean(Tree):\n",
    "    if isTree(Tree['left']): Tree['left'] = getMean(Tree['left'])\n",
    "    if isTree(Tree['right']):Tree['right'] = getMean(Tree['right'])\n",
    "    return (Tree['left']+ Tree['right'])/2.0\n",
    "\n",
    "# 后剪枝\n",
    "def pruneTree(Tree,testData):\n",
    "    if shape(testData)[0]==0: return getMean(Tree)\n",
    "    if isTree(Tree['left'])or isTree(Tree['right']):\n",
    "        dataL,dataR = dataSplit(testData,Tree['spInd'],Tree['spVal'])\n",
    "    if isTree(Tree['left']):\n",
    "        Tree['left'] = pruneTree(Tree['left'],dataL)\n",
    "    if isTree(Tree['right']):\n",
    "        Tree['right'] = pruneTree(Tree['right'],dataR)\n",
    "    if not isTree(Tree['left']) and not isTree(Tree['right']):\n",
    "        dataL,dataR = dataSplit(testData,Tree['spInd'],Tree['spVal'])\n",
    "        errorNoMerge = sum(power(dataL[:,-1] - Tree['left'],2)) + sum(power(dataR[:,-1] - Tree['right'],2))\n",
    "        leafMean = getMean(Tree)\n",
    "        errorMerge = sum(power(testData[:,-1]-  leafMean,2))\n",
    "        if errorNoMerge > errorMerge:\n",
    "            print(\"the leaf merge\")\n",
    "            return leafMean\n",
    "        else:\n",
    "            return Tree\n",
    "    else:\n",
    "        return Tree\n",
    "\n",
    "# 预测\n",
    "def forecastSample(Tree,testData):\n",
    "    if not isTree(Tree): return float(tree)\n",
    "    # print\"选择的特征是：\" ,Tree['spInd']\n",
    "    # print\"测试数据的特征值是：\" ,testData[Tree['spInd']]\n",
    "    if testData[0,Tree['spInd']]>Tree['spVal']:\n",
    "        if isTree(Tree['left']):\n",
    "            return forecastSample(Tree['left'],testData)\n",
    "        else:\n",
    "            return float(Tree['left'])\n",
    "    else:\n",
    "        if isTree(Tree['right']):\n",
    "            return forecastSample(Tree['right'],testData)\n",
    "        else:\n",
    "            return float(Tree['right'])\n",
    "\n",
    "def TreeForecast(Tree,testData):\n",
    "    m = shape(testData)[0]\n",
    "    y_hat = mat(zeros((m,1)))\n",
    "    for i in range(m):\n",
    "        y_hat[i,0] = forecastSample(Tree,testData[i])\n",
    "    return y_hat\n",
    "\n",
    "if __name__==\"__main__\":\n",
    "    print (\"hello world\")\n",
    "    from sklearn.datasets import load_boston\n",
    "    from sklearn.cross_validation import train_test_split\n",
    "\n",
    "    data = load_boston()\n",
    "    X_train, X_test, y_train, y_test = train_test_split(data.data, data.target,test_size=0.3)\n",
    "    "
   ]
  },
  {
   "cell_type": "code",
   "execution_count": 4,
   "metadata": {
    "collapsed": false
   },
   "outputs": [
    {
     "data": {
      "text/plain": [
       "array([25. , 23.9, 38.7, 20.4, 13.8, 13.8, 10.2, 20.5, 10.4, 17.4, 17.8,\n",
       "       17.1, 24.1, 16.7, 16.3, 11.9, 24.1, 14.5, 13.4, 30.7, 42.8, 25.2,\n",
       "       37.6, 29.1, 22.9, 34.9, 26.2, 31.5, 36.2, 25.1, 20.6, 13.4, 23.3,\n",
       "       43.5, 20.6, 30.1, 10.5, 33.4, 11. , 34.9, 15. , 20. , 20.4, 16.1,\n",
       "       22.6, 32.2, 10.8, 32.5, 50. , 21.7, 23.1, 19.5, 24.8, 20.5, 16. ,\n",
       "       26.6, 28.6, 11.7, 10.5, 31.6, 30.8, 25. , 18.9, 22.5, 13.3, 21.1,\n",
       "       16.1, 25. , 16.5, 21.1, 19.6, 19.6, 23. , 15. , 14.1, 23.7, 28.7,\n",
       "       13.3, 13.8,  8.4, 33.4, 23.3, 19. , 24.1, 10.9, 13.4, 18. , 29. ,\n",
       "       19.7,  6.3, 31.5, 17.5, 50. , 18.6, 39.8, 12.8, 23.6, 22. , 13.9,\n",
       "       50. , 15.4, 13.5, 14.9, 18.9, 19.4, 23.7, 14.4, 31. , 26.6,  8.7,\n",
       "       19.4, 22.6,  7.2, 20.8, 19.3, 48.3,  8.4, 19.4, 50. ,  9.6,  8.8,\n",
       "       29.8, 50. , 19.5, 28.4, 18.5, 29.6, 36. , 23.8, 28.2, 18.6, 22.9,\n",
       "       26.4, 32.4, 22. , 21.8, 29.6, 11.3, 18.5, 22.3, 36.2, 16.1, 37.2,\n",
       "       20.5, 14.9,  5.6, 22.2, 15.4, 21.7, 19.8, 27.1,  5. , 20.6, 34.6,\n",
       "       21.4, 21.7, 16.8, 19.6, 22. , 23.1, 21.5, 21.7, 28.7, 12.6, 33.2,\n",
       "       44.8, 15.2, 31.2, 18.7, 20.3, 12.7, 24.2, 14.5, 14.9, 21.2, 24.7,\n",
       "       24.7, 15.3,  8.5, 29.1, 21.4, 15.6,  8.1, 21.2, 27.9, 23.9, 14.6,\n",
       "       13.1, 17.8, 23.7, 24.5, 25. , 50. , 24.4, 30.5, 22.6, 21.2, 35.2,\n",
       "       19.9, 17.8, 17.4, 24. , 21.9, 30.1, 17.1, 14.3, 23.2, 23.1, 22.5,\n",
       "       21.5, 20.8, 13.9, 19.7, 20.6, 28. , 16.2, 27.5, 13.8, 23.1, 24.8,\n",
       "       19.9,  8.5, 17.5, 20.6, 23. , 18.2, 20.2, 29.9, 43.1, 25. , 23.1,\n",
       "       33. , 11.8, 18.7, 20. , 21.4, 46.7, 22.6, 18.5, 17.8, 22.2, 12.5,\n",
       "       11.9, 23.9, 19.6, 17.8, 48.8, 11.8, 15.7, 23.7, 22.9, 15.6, 21. ,\n",
       "       18.7, 15.2, 20.7, 17.6, 23.9,  8.3, 32. , 24.7, 13.1, 23.3, 22.7,\n",
       "       27.1, 22.9, 20.9, 27. , 30.3, 17.4, 20.8, 27.9, 26.6, 23.8, 13.8,\n",
       "       27.5, 21.6, 13.1, 43.8, 21.6, 10.2, 46. , 13.2, 24.5, 13.3, 18.4,\n",
       "        9.5, 23.2, 22. , 19.3, 20. , 19.5, 18.5, 50. , 33.1, 15.6, 22.1,\n",
       "       33.1, 21.4, 19.4, 20.1, 23. , 24.6, 28.4, 13.5, 13.6, 20.1, 19.4,\n",
       "       20.6, 20.4, 22.6, 35.4, 14.8, 41.3, 19.1, 19.8, 50. , 21.4, 18.4,\n",
       "       24.4, 22. , 22.8, 42.3, 14.2,  7.2, 19.1, 36.4, 37. , 27.5, 25. ,\n",
       "       24.4, 29.4, 19.3, 37.3, 41.7, 19.5, 15.1, 19.9, 50. , 50. , 14.3,\n",
       "       23.8, 20.1, 23.6, 19. , 11.5, 31.1, 23.1, 18.1, 17.3, 20.4, 29. ,\n",
       "       17.2, 10.2])"
      ]
     },
     "execution_count": 4,
     "metadata": {},
     "output_type": "execute_result"
    }
   ],
   "source": [
    "y_train"
   ]
  },
  {
   "cell_type": "code",
   "execution_count": 6,
   "metadata": {
    "collapsed": false
   },
   "outputs": [
    {
     "data": {
      "image/png": "[encoded data removed]",
      "text/plain": [
       "<matplotlib.figure.Figure at 0x15a618d7358>"
      ]
     },
     "metadata": {},
     "output_type": "display_data"
    },
    {
     "name": "stdout",
     "output_type": "stream",
     "text": [
      "0.8533133224483429\n"
     ]
    }
   ],
   "source": [
    "    datatrain=np.concatenate((X_train,y_train[:,np.newaxis]),axis=1)\n",
    "    dataMat = mat(datatrain)\n",
    "    op = [1,6]    # 参数1：剪枝前总方差与剪枝后总方差差值的最小值；参数2：将数据集划分为两个子数据集后，子数据集中的样本的最少数量；\n",
    "    theCreateTree =  createTree(dataMat,op)\n",
    "   # 测试数据\n",
    "    datatest = np.concatenate((X_test, y_test[:, np.newaxis]), axis=1)\n",
    "    dataMat2=datatest[np.lexsort(datatest.T)]\n",
    "    dataMat2 = mat(dataMat2)\n",
    "\n",
    "    #thePruneTree =  pruneTree(theCreateTree, dataMat2)\n",
    "    #print\"剪枝后的后树：\\n\",thePruneTree\n",
    "    y = dataMat2[:, -1]\n",
    "\n",
    "    y_hat = TreeForecast(theCreateTree,dataMat2)\n",
    "    plt.scatter(range(0, len(y)),y,c = 'r')\n",
    "    plt.scatter(range(0, len(y_hat)), y_hat,c = 'b')\n",
    "    plt.show()\n",
    "    print (corrcoef(y_hat,y,rowvar=0)[0,1])"
   ]
  },
  {
   "cell_type": "code",
   "execution_count": null,
   "metadata": {
    "collapsed": true
   },
   "outputs": [],
   "source": []
  }
 ],
 "metadata": {
  "anaconda-cloud": {},
  "kernelspec": {
   "display_name": "Python [default]",
   "language": "python",
   "name": "python3"
  },
  "language_info": {
   "codemirror_mode": {
    "name": "ipython",
    "version": 3
   },
   "file_extension": ".py",
   "mimetype": "text/x-python",
   "name": "python",
   "nbconvert_exporter": "python",
   "pygments_lexer": "ipython3",
   "version": "3.5.2"
  }
 },
 "nbformat": 4,
 "nbformat_minor": 1
}
